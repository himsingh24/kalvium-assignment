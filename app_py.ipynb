{
  "nbformat": 4,
  "nbformat_minor": 0,
  "metadata": {
    "colab": {
      "provenance": [],
      "authorship_tag": "ABX9TyPDzmsloSOdNcRs3zoexL6q",
      "include_colab_link": true
    },
    "kernelspec": {
      "name": "python3",
      "display_name": "Python 3"
    },
    "language_info": {
      "name": "python"
    }
  },
  "cells": [
    {
      "cell_type": "markdown",
      "metadata": {
        "id": "view-in-github",
        "colab_type": "text"
      },
      "source": [
        "<a href=\"https://colab.research.google.com/github/himsingh24/kalvium-assignment/blob/main/app_py.ipynb\" target=\"_parent\"><img src=\"https://colab.research.google.com/assets/colab-badge.svg\" alt=\"Open In Colab\"/></a>"
      ]
    },
    {
      "cell_type": "code",
      "source": [
        "pip install Flask\n"
      ],
      "metadata": {
        "colab": {
          "base_uri": "https://localhost:8080/"
        },
        "id": "G1FxPhTr1PTj",
        "outputId": "78366b6f-a01e-4ef0-e250-d71d85cdbf31"
      },
      "execution_count": 6,
      "outputs": [
        {
          "output_type": "stream",
          "name": "stdout",
          "text": [
            "Requirement already satisfied: Flask in /usr/local/lib/python3.10/dist-packages (2.2.5)\n",
            "Requirement already satisfied: Werkzeug>=2.2.2 in /usr/local/lib/python3.10/dist-packages (from Flask) (2.3.7)\n",
            "Requirement already satisfied: Jinja2>=3.0 in /usr/local/lib/python3.10/dist-packages (from Flask) (3.1.2)\n",
            "Requirement already satisfied: itsdangerous>=2.0 in /usr/local/lib/python3.10/dist-packages (from Flask) (2.1.2)\n",
            "Requirement already satisfied: click>=8.0 in /usr/local/lib/python3.10/dist-packages (from Flask) (8.1.7)\n",
            "Requirement already satisfied: MarkupSafe>=2.0 in /usr/local/lib/python3.10/dist-packages (from Jinja2>=3.0->Flask) (2.1.3)\n"
          ]
        }
      ]
    },
    {
      "cell_type": "code",
      "source": [
        "from flask import Flask, jsonify\n",
        "\n",
        "app = Flask(__name__)\n",
        "\n",
        "# Store the history of operations\n",
        "history = []\n",
        "\n",
        "# Endpoint to calculate and store operation\n",
        "@app.route('/<path:operands>')\n",
        "def calculate(operands):\n",
        "    operations = operands.split('/')\n",
        "    result = float(operations[0])\n",
        "\n",
        "    for i in range(1, len(operations), 2):\n",
        "        operator = operations[i]\n",
        "        operand = float(operations[i + 1])\n",
        "\n",
        "        if operator == 'plus':\n",
        "            result += operand\n",
        "        elif operator == 'minus':\n",
        "            result -= operand\n",
        "        elif operator == 'into':\n",
        "            result *= operand\n",
        "        elif operator == 'over':\n",
        "            result /= operand\n",
        "\n",
        "    question = ' '.join(operations)\n",
        "    answer = result\n",
        "    history.insert(0, {'question': question, 'answer': answer})\n",
        "\n",
        "    if len(history) > 20:\n",
        "        history.pop()\n",
        "\n",
        "    return jsonify({'question': question, 'answer': answer})\n",
        "\n",
        "# Endpoint to get the history\n",
        "@app.route('/history')\n",
        "def get_history():\n",
        "    return jsonify(history)\n",
        "\n",
        "if __name__ == '__main__':\n",
        "    app.run(debug=True)\n"
      ],
      "metadata": {
        "colab": {
          "base_uri": "https://localhost:8080/"
        },
        "id": "Yy3iK8DH1Qzu",
        "outputId": "e305c2f4-c82e-4894-ac95-c3a1b3d63895"
      },
      "execution_count": 12,
      "outputs": [
        {
          "output_type": "stream",
          "name": "stdout",
          "text": [
            " * Serving Flask app '__main__'\n",
            " * Debug mode: on\n"
          ]
        },
        {
          "output_type": "stream",
          "name": "stderr",
          "text": [
            "INFO:werkzeug:\u001b[31m\u001b[1mWARNING: This is a development server. Do not use it in a production deployment. Use a production WSGI server instead.\u001b[0m\n",
            " * Running on http://127.0.0.1:5000\n",
            "INFO:werkzeug:\u001b[33mPress CTRL+C to quit\u001b[0m\n",
            "INFO:werkzeug: * Restarting with stat\n"
          ]
        }
      ]
    },
    {
      "cell_type": "code",
      "source": [],
      "metadata": {
        "id": "-0HJOuwR6ExD"
      },
      "execution_count": null,
      "outputs": []
    }
  ]
}